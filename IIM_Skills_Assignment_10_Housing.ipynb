{
 "cells": [
  {
   "cell_type": "markdown",
   "id": "34ce4214-4617-4b36-a968-cd069a0d241e",
   "metadata": {},
   "source": [
    "10. ### Implement a linear regression model using Scikit-Learn on the Boston Housing dataset (using sklearn).\n",
    "    #### Use the dataset to predict the median value of owner-occupied homes (MEDV). <br>  Split the data into training and testing sets, train the model, and <br>  evaluate its performance using RMSE and MSE metrics. <br> Provide a brief interpretation of the results."
   ]
  },
  {
   "cell_type": "raw",
   "id": "f4a0f830-97d9-4efc-a6d0-3065450f36bb",
   "metadata": {},
   "source": [
    "File ~\\anaconda3\\Lib\\site-packages\\sklearn\\datasets\\__init__.py:156, in __getattr__(name)\n",
    "    105 if name == \"load_boston\":\n",
    "    106     msg = textwrap.dedent(\n",
    "    107         \"\"\"\n",
    "    108         `load_boston` has been removed from scikit-learn since version 1.2.\n",
    "\n",
    "ImportError: \n",
    "`load_boston` has been removed from scikit-learn since version 1.2.\n",
    "\n",
    "The Boston housing prices dataset has an ethical problem: as\n",
    "investigated in [1], the authors of this dataset engineered a\n",
    "non-invertible variable \"B\" assuming that racial self-segregation had a\n",
    "positive impact on house prices [2]. Furthermore the goal of the\n",
    "research that led to the creation of this dataset was to study the\n",
    "impact of air quality but it did not give adequate demonstration of the\n",
    "validity of this assumption\n",
    "\n",
    "Alternative datasets include the California housing dataset and the\n",
    "Ames housing dataset. You can load the datasets as follows::\n",
    "\n",
    "    from sklearn.datasets import fetch_california_housing\n",
    "    housing = fetch_california_housing()\n",
    "\n",
    "for the California housing dataset\n"
   ]
  },
  {
   "cell_type": "code",
   "execution_count": 29,
   "id": "ed32cd4f-d49b-4d6b-ad4c-e310fcdadd51",
   "metadata": {},
   "outputs": [],
   "source": [
    "import pandas as pd\n",
    "import numpy as np\n",
    "import matplotlib.pyplot as plt"
   ]
  },
  {
   "cell_type": "code",
   "execution_count": 41,
   "id": "4afcf869-a61d-452f-89b7-d14e77659e4a",
   "metadata": {},
   "outputs": [],
   "source": [
    "# Loading the California Housing dataset:\n",
    "\n",
    "from sklearn.datasets import fetch_california_housing\n",
    "\n",
    "california = fetch_california_housing()\n",
    "X = pd.DataFrame(california.data, columns=california.feature_names)\n",
    "y = pd.Series(california.target)\n"
   ]
  },
  {
   "cell_type": "code",
   "execution_count": 42,
   "id": "42e5176e-ccf3-42ca-933c-155ba5075170",
   "metadata": {},
   "outputs": [
    {
     "data": {
      "text/html": [
       "<div>\n",
       "<style scoped>\n",
       "    .dataframe tbody tr th:only-of-type {\n",
       "        vertical-align: middle;\n",
       "    }\n",
       "\n",
       "    .dataframe tbody tr th {\n",
       "        vertical-align: top;\n",
       "    }\n",
       "\n",
       "    .dataframe thead th {\n",
       "        text-align: right;\n",
       "    }\n",
       "</style>\n",
       "<table border=\"1\" class=\"dataframe\">\n",
       "  <thead>\n",
       "    <tr style=\"text-align: right;\">\n",
       "      <th></th>\n",
       "      <th>MedInc</th>\n",
       "      <th>HouseAge</th>\n",
       "      <th>AveRooms</th>\n",
       "      <th>AveBedrms</th>\n",
       "      <th>Population</th>\n",
       "      <th>AveOccup</th>\n",
       "      <th>Latitude</th>\n",
       "      <th>Longitude</th>\n",
       "    </tr>\n",
       "  </thead>\n",
       "  <tbody>\n",
       "    <tr>\n",
       "      <th>0</th>\n",
       "      <td>8.3252</td>\n",
       "      <td>41.0</td>\n",
       "      <td>6.984127</td>\n",
       "      <td>1.02381</td>\n",
       "      <td>322.0</td>\n",
       "      <td>2.555556</td>\n",
       "      <td>37.88</td>\n",
       "      <td>-122.23</td>\n",
       "    </tr>\n",
       "    <tr>\n",
       "      <th>1</th>\n",
       "      <td>8.3014</td>\n",
       "      <td>21.0</td>\n",
       "      <td>6.238137</td>\n",
       "      <td>0.97188</td>\n",
       "      <td>2401.0</td>\n",
       "      <td>2.109842</td>\n",
       "      <td>37.86</td>\n",
       "      <td>-122.22</td>\n",
       "    </tr>\n",
       "  </tbody>\n",
       "</table>\n",
       "</div>"
      ],
      "text/plain": [
       "   MedInc  HouseAge  AveRooms  AveBedrms  Population  AveOccup  Latitude  \\\n",
       "0  8.3252      41.0  6.984127    1.02381       322.0  2.555556     37.88   \n",
       "1  8.3014      21.0  6.238137    0.97188      2401.0  2.109842     37.86   \n",
       "\n",
       "   Longitude  \n",
       "0    -122.23  \n",
       "1    -122.22  "
      ]
     },
     "execution_count": 42,
     "metadata": {},
     "output_type": "execute_result"
    }
   ],
   "source": [
    "X.head(2)"
   ]
  },
  {
   "cell_type": "code",
   "execution_count": 44,
   "id": "657a14a8-67e2-41e2-b2fb-79f72e3b7359",
   "metadata": {},
   "outputs": [
    {
     "data": {
      "text/plain": [
       "0    4.526\n",
       "1    3.585\n",
       "dtype: float64"
      ]
     },
     "execution_count": 44,
     "metadata": {},
     "output_type": "execute_result"
    }
   ],
   "source": [
    "y.head(2)"
   ]
  },
  {
   "cell_type": "code",
   "execution_count": 31,
   "id": "234cf929-22f3-4d8d-81cd-69b83b34b10d",
   "metadata": {},
   "outputs": [],
   "source": [
    "# Split the data into training and testing sets:\n",
    "\n",
    "from sklearn.model_selection import train_test_split\n",
    "\n",
    "X_train, X_test, y_train, y_test = train_test_split(X, y, test_size = 0.3, random_state = 42)"
   ]
  },
  {
   "cell_type": "code",
   "execution_count": 32,
   "id": "5c3f9b51-e219-4b8d-aa11-2cc2f097c1b2",
   "metadata": {},
   "outputs": [
    {
     "data": {
      "text/html": [
       "<style>#sk-container-id-3 {color: black;background-color: white;}#sk-container-id-3 pre{padding: 0;}#sk-container-id-3 div.sk-toggleable {background-color: white;}#sk-container-id-3 label.sk-toggleable__label {cursor: pointer;display: block;width: 100%;margin-bottom: 0;padding: 0.3em;box-sizing: border-box;text-align: center;}#sk-container-id-3 label.sk-toggleable__label-arrow:before {content: \"▸\";float: left;margin-right: 0.25em;color: #696969;}#sk-container-id-3 label.sk-toggleable__label-arrow:hover:before {color: black;}#sk-container-id-3 div.sk-estimator:hover label.sk-toggleable__label-arrow:before {color: black;}#sk-container-id-3 div.sk-toggleable__content {max-height: 0;max-width: 0;overflow: hidden;text-align: left;background-color: #f0f8ff;}#sk-container-id-3 div.sk-toggleable__content pre {margin: 0.2em;color: black;border-radius: 0.25em;background-color: #f0f8ff;}#sk-container-id-3 input.sk-toggleable__control:checked~div.sk-toggleable__content {max-height: 200px;max-width: 100%;overflow: auto;}#sk-container-id-3 input.sk-toggleable__control:checked~label.sk-toggleable__label-arrow:before {content: \"▾\";}#sk-container-id-3 div.sk-estimator input.sk-toggleable__control:checked~label.sk-toggleable__label {background-color: #d4ebff;}#sk-container-id-3 div.sk-label input.sk-toggleable__control:checked~label.sk-toggleable__label {background-color: #d4ebff;}#sk-container-id-3 input.sk-hidden--visually {border: 0;clip: rect(1px 1px 1px 1px);clip: rect(1px, 1px, 1px, 1px);height: 1px;margin: -1px;overflow: hidden;padding: 0;position: absolute;width: 1px;}#sk-container-id-3 div.sk-estimator {font-family: monospace;background-color: #f0f8ff;border: 1px dotted black;border-radius: 0.25em;box-sizing: border-box;margin-bottom: 0.5em;}#sk-container-id-3 div.sk-estimator:hover {background-color: #d4ebff;}#sk-container-id-3 div.sk-parallel-item::after {content: \"\";width: 100%;border-bottom: 1px solid gray;flex-grow: 1;}#sk-container-id-3 div.sk-label:hover label.sk-toggleable__label {background-color: #d4ebff;}#sk-container-id-3 div.sk-serial::before {content: \"\";position: absolute;border-left: 1px solid gray;box-sizing: border-box;top: 0;bottom: 0;left: 50%;z-index: 0;}#sk-container-id-3 div.sk-serial {display: flex;flex-direction: column;align-items: center;background-color: white;padding-right: 0.2em;padding-left: 0.2em;position: relative;}#sk-container-id-3 div.sk-item {position: relative;z-index: 1;}#sk-container-id-3 div.sk-parallel {display: flex;align-items: stretch;justify-content: center;background-color: white;position: relative;}#sk-container-id-3 div.sk-item::before, #sk-container-id-3 div.sk-parallel-item::before {content: \"\";position: absolute;border-left: 1px solid gray;box-sizing: border-box;top: 0;bottom: 0;left: 50%;z-index: -1;}#sk-container-id-3 div.sk-parallel-item {display: flex;flex-direction: column;z-index: 1;position: relative;background-color: white;}#sk-container-id-3 div.sk-parallel-item:first-child::after {align-self: flex-end;width: 50%;}#sk-container-id-3 div.sk-parallel-item:last-child::after {align-self: flex-start;width: 50%;}#sk-container-id-3 div.sk-parallel-item:only-child::after {width: 0;}#sk-container-id-3 div.sk-dashed-wrapped {border: 1px dashed gray;margin: 0 0.4em 0.5em 0.4em;box-sizing: border-box;padding-bottom: 0.4em;background-color: white;}#sk-container-id-3 div.sk-label label {font-family: monospace;font-weight: bold;display: inline-block;line-height: 1.2em;}#sk-container-id-3 div.sk-label-container {text-align: center;}#sk-container-id-3 div.sk-container {/* jupyter's `normalize.less` sets `[hidden] { display: none; }` but bootstrap.min.css set `[hidden] { display: none !important; }` so we also need the `!important` here to be able to override the default hidden behavior on the sphinx rendered scikit-learn.org. See: https://github.com/scikit-learn/scikit-learn/issues/21755 */display: inline-block !important;position: relative;}#sk-container-id-3 div.sk-text-repr-fallback {display: none;}</style><div id=\"sk-container-id-3\" class=\"sk-top-container\"><div class=\"sk-text-repr-fallback\"><pre>LinearRegression()</pre><b>In a Jupyter environment, please rerun this cell to show the HTML representation or trust the notebook. <br />On GitHub, the HTML representation is unable to render, please try loading this page with nbviewer.org.</b></div><div class=\"sk-container\" hidden><div class=\"sk-item\"><div class=\"sk-estimator sk-toggleable\"><input class=\"sk-toggleable__control sk-hidden--visually\" id=\"sk-estimator-id-3\" type=\"checkbox\" checked><label for=\"sk-estimator-id-3\" class=\"sk-toggleable__label sk-toggleable__label-arrow\">LinearRegression</label><div class=\"sk-toggleable__content\"><pre>LinearRegression()</pre></div></div></div></div></div>"
      ],
      "text/plain": [
       "LinearRegression()"
      ]
     },
     "execution_count": 32,
     "metadata": {},
     "output_type": "execute_result"
    }
   ],
   "source": [
    "# Create and train the linear regression model:\n",
    "\n",
    "from sklearn.linear_model import LinearRegression\n",
    "\n",
    "model = LinearRegression()\n",
    "model.fit(X_train, y_train)"
   ]
  },
  {
   "cell_type": "code",
   "execution_count": 33,
   "id": "47c21b3a-f7cb-4056-b819-ac6ca8d6e26a",
   "metadata": {},
   "outputs": [],
   "source": [
    "# Make predictions on the test set:\n",
    "\n",
    "from sklearn.metrics import mean_squared_error, r2_score\n",
    "\n",
    "y_pred = model.predict(X_test)"
   ]
  },
  {
   "cell_type": "code",
   "execution_count": 34,
   "id": "3a8e40bc-5ed0-454a-9f3c-ccc188d3745f",
   "metadata": {},
   "outputs": [
    {
     "name": "stdout",
     "output_type": "stream",
     "text": [
      "Mean Squared Error : 0.530567782476675\n",
      "Root Mean Squared Error : 0.7284008391515451\n",
      "R^2 Score : 0.5957702326061665\n"
     ]
    }
   ],
   "source": [
    "# Evaluate the model using MSE and RMSE:\n",
    "\n",
    "mse = mean_squared_error(y_test, y_pred)\n",
    "rmse = np.sqrt(mse)\n",
    "r2 = r2_score(y_test, y_pred)\n",
    "\n",
    "print (f\"Mean Squared Error : {mse}\")\n",
    "print (f\"Root Mean Squared Error : {rmse}\")\n",
    "print (f\"R^2 Score : {r2}\")"
   ]
  },
  {
   "cell_type": "code",
   "execution_count": 35,
   "id": "f9ebcffa-400d-45c4-b9e8-9ab268e9d0ac",
   "metadata": {},
   "outputs": [
    {
     "data": {
      "image/png": "[encoded data removed]",
      "text/plain": [
       "<Figure size 640x480 with 1 Axes>"
      ]
     },
     "metadata": {},
     "output_type": "display_data"
    }
   ],
   "source": [
    "# Visualize the results:\n",
    "\n",
    "plt.scatter (y_test, y_pred)\n",
    "plt.xlabel(\"Actual Prices\")\n",
    "plt.ylabel (\"Predicted Prices\")\n",
    "plt.title (\"Actual Vs Predicted Prices\")\n",
    "plt.show()"
   ]
  },
  {
   "cell_type": "markdown",
   "id": "fe5dbb3d-5c93-4fe2-b382-72d2ab0726e5",
   "metadata": {},
   "source": [
    "### Interpretation of the results"
   ]
  },
  {
   "cell_type": "markdown",
   "id": "f97b2e24-4b7c-4b1f-b0e9-0a90adf6881c",
   "metadata": {},
   "source": [
    "##### Mean Squared Error (MSE): <br>\n",
    "This metric measures the average squared difference between the actual and predicted values. A lower MSE indicates a better fit of the model to the data. In our case, the MSE value provides an idea of how much the predicted home prices deviate from the actual prices on average.\r\n",
    "<br> MSE is 0.5, it means that, on average, the squared difference between the actual and predicted home prices is 0.5l."
   ]
  },
  {
   "cell_type": "markdown",
   "id": "e2909b65-fec4-48f6-a113-e257ff8b77b0",
   "metadata": {},
   "source": [
    "##### Root Mean Squared Error (RMSE):<br> \n",
    "This is the square root of the MSE and is in the same units as the target variable (in this case, the median home value). It is easier to interpret because it gives an average error in the same units as the data. A lower RMSE indicates better predictive accuracy.\n",
    "<br> RMSE is 0.7, it means that, on average, the predicted home prices deviate from the actual prices by 0.7 units (in the same scale as the variable"
   ]
  },
  {
   "cell_type": "markdown",
   "id": "00467dec-c340-4fe2-91a1-82116ae5ffdd",
   "metadata": {},
   "source": [
    "##### R^2 Score: \n",
    "<br> This metric indicates the proportion of the variance in the dependent variable that is predictable from the independent variables. An R^2 score closer to 1 indicates that a large proportion of the variance in the target variable is explained by the model. \n",
    "In our case, a higher R^2 score means our model explains a significant portion of the variability in home prices.\n",
    "<br>\n",
    "R^2 score is 0.6, it means that 60% of the variance in the median home prices is explained by the model."
   ]
  },
  {
   "cell_type": "code",
   "execution_count": null,
   "id": "05700ab0-3f72-4cb6-9311-a8d11e63216a",
   "metadata": {},
   "outputs": [],
   "source": []
  },
  {
   "cell_type": "code",
   "execution_count": null,
   "id": "f15f6700-963f-4f67-a537-b8f4fa39ea0b",
   "metadata": {},
   "outputs": [],
   "source": []
  }
 ],
 "metadata": {
  "kernelspec": {
   "display_name": "Python 3 (ipykernel)",
   "language": "python",
   "name": "python3"
  },
  "language_info": {
   "codemirror_mode": {
    "name": "ipython",
    "version": 3
   },
   "file_extension": ".py",
   "mimetype": "text/x-python",
   "name": "python",
   "nbconvert_exporter": "python",
   "pygments_lexer": "ipython3",
   "version": "3.11.7"
  }
 },
 "nbformat": 4,
 "nbformat_minor": 5
}
