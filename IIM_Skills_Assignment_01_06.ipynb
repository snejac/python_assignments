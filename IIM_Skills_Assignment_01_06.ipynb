{
 "cells": [
  {
   "cell_type": "markdown",
   "id": "1b5a969f-f834-43a3-8e5f-c9f427a3c1f5",
   "metadata": {},
   "source": [
    "### IIM_Skills_Assignment"
   ]
  },
  {
   "cell_type": "markdown",
   "id": "d14f8657-ee9f-42b0-b5c6-a9ef68dcdba5",
   "metadata": {},
   "source": [
    "1. __Write a Python script that prints the numbers from 1 to 100, <br>\n",
    "   but for multiples of three print \"Fizz\" instead of the number <br>\n",
    "   and for the multiples of five print \"Buzz\".<br>\n",
    "   For numbers which are multiples of both three and five, print \"FizzBuzz\".__"
   ]
  },
  {
   "cell_type": "code",
   "execution_count": 1,
   "id": "3639a7d1-7068-49af-828d-3834e5173ac5",
   "metadata": {},
   "outputs": [
    {
     "name": "stdout",
     "output_type": "stream",
     "text": [
      "1\n",
      "2\n",
      "Fizz\n",
      "4\n",
      "Buzz\n",
      "Fizz\n",
      "7\n",
      "8\n",
      "Fizz\n",
      "Buzz\n",
      "11\n",
      "Fizz\n",
      "13\n",
      "14\n",
      "Fizz\n",
      "16\n",
      "17\n",
      "Fizz\n",
      "19\n",
      "Buzz\n",
      "Fizz\n",
      "22\n",
      "23\n",
      "Fizz\n",
      "Buzz\n",
      "26\n",
      "Fizz\n",
      "28\n",
      "29\n",
      "Fizz\n",
      "31\n",
      "32\n",
      "Fizz\n",
      "34\n",
      "Buzz\n",
      "Fizz\n",
      "37\n",
      "38\n",
      "Fizz\n",
      "Buzz\n",
      "41\n",
      "Fizz\n",
      "43\n",
      "44\n",
      "Fizz\n",
      "46\n",
      "47\n",
      "Fizz\n",
      "49\n",
      "Buzz\n",
      "Fizz\n",
      "52\n",
      "53\n",
      "Fizz\n",
      "Buzz\n",
      "56\n",
      "Fizz\n",
      "58\n",
      "59\n",
      "Fizz\n",
      "61\n",
      "62\n",
      "Fizz\n",
      "64\n",
      "Buzz\n",
      "Fizz\n",
      "67\n",
      "68\n",
      "Fizz\n",
      "Buzz\n",
      "71\n",
      "Fizz\n",
      "73\n",
      "74\n",
      "Fizz\n",
      "76\n",
      "77\n",
      "Fizz\n",
      "79\n",
      "Buzz\n",
      "Fizz\n",
      "82\n",
      "83\n",
      "Fizz\n",
      "Buzz\n",
      "86\n",
      "Fizz\n",
      "88\n",
      "89\n",
      "Fizz\n",
      "91\n",
      "92\n",
      "Fizz\n",
      "94\n",
      "Buzz\n",
      "Fizz\n",
      "97\n",
      "98\n",
      "Fizz\n",
      "Buzz\n"
     ]
    }
   ],
   "source": [
    "for x in range (1,101): #prints the numbers from 1 to 100\n",
    "    if x % 3 == 0:\n",
    "        print(\"Fizz\")\n",
    "    elif x % 5 == 0:\n",
    "        print(\"Buzz\")\n",
    "    elif x % 3 == 0 and x % 5 == 0:\n",
    "        print(\"FizzBuzz\")\n",
    "    else:\n",
    "        print(x)"
   ]
  },
  {
   "cell_type": "markdown",
   "id": "83920387-4951-4457-bb23-c0536ed0b27b",
   "metadata": {},
   "source": [
    "2. __Write a Python script that calculates the factorial of a given number using aloop. <br>\n",
    "   Prompt the user to enter a number and display its factorial.__"
   ]
  },
  {
   "cell_type": "code",
   "execution_count": 2,
   "id": "73cfdd63-e2fe-46ea-9f01-747cd6e6aa6e",
   "metadata": {},
   "outputs": [
    {
     "name": "stdin",
     "output_type": "stream",
     "text": [
      "Enter a number :  6\n"
     ]
    },
    {
     "name": "stdout",
     "output_type": "stream",
     "text": [
      "Factorial of 6 is 720\n"
     ]
    }
   ],
   "source": [
    "num = int(input (\"Enter a number : \"))\n",
    "factorial = 1\n",
    "\n",
    "if num < 0:\n",
    "    print(\"No factorial for negative number\")\n",
    "elif num == 0:\n",
    "    print(\"Factorial of 0 is 1\")\n",
    "else:\n",
    "    for x in range (1, num + 1):\n",
    "        factorial = factorial * x\n",
    "    print (f\"Factorial of {num} is {factorial}\")"
   ]
  },
  {
   "cell_type": "markdown",
   "id": "2f893b1d-0db9-4aca-8acc-9d408a913bd2",
   "metadata": {},
   "source": [
    "3. __Write a Python script that takes a string input from the user <br>\n",
    "   and prints whether the string is a palindrome. <br>\n",
    "   Use conditional statements and loops in your solution.__"
   ]
  },
  {
   "cell_type": "code",
   "execution_count": 16,
   "id": "ecb87555-0446-4dea-9fa0-4df93f434733",
   "metadata": {},
   "outputs": [
    {
     "name": "stdin",
     "output_type": "stream",
     "text": [
      "Enter a word :  Malayalam\n"
     ]
    },
    {
     "name": "stdout",
     "output_type": "stream",
     "text": [
      "malayalam is a palindrome.\n"
     ]
    }
   ],
   "source": [
    "# With conditional statement\n",
    "\n",
    "word = input(\"Enter a word : \")\n",
    "word = word.lower()\n",
    "reversed_word = word[::-1]\n",
    "\n",
    "if word == reversed_word:\n",
    "    print(f\"{word} is a palindrome.\")\n",
    "else:\n",
    "    print(f\"{word} is a not palindrome.\")\n"
   ]
  },
  {
   "cell_type": "code",
   "execution_count": 17,
   "id": "721eca58-39ad-4893-ad09-95ddd93938e4",
   "metadata": {},
   "outputs": [
    {
     "name": "stdin",
     "output_type": "stream",
     "text": [
      "Enter a word :  Sneha\n"
     ]
    },
    {
     "name": "stdout",
     "output_type": "stream",
     "text": [
      "sneha is a not a palindrome.\n"
     ]
    }
   ],
   "source": [
    "# With conditional statement and loop\n",
    "\n",
    "word = input(\"Enter a word : \")\n",
    "word = word.lower()\n",
    "\n",
    "length = len(word) - 1\n",
    "\n",
    "for i in range (length // 2):\n",
    "    if word[i] != word[- (i + 1)]:\n",
    "        print(f\"{word} is a not a palindrome.\")\n",
    "        break\n",
    "else:\n",
    "    print(f\"{word} is a palindrome.\")\n"
   ]
  },
  {
   "cell_type": "markdown",
   "id": "d9f5e0eb-b256-43d3-8084-c4d564b37347",
   "metadata": {},
   "source": [
    "4. __Define a function in Python that takes a list of numbers <BR>\n",
    "   and returns the sum of all even numbers in the list. <br>\n",
    "   Use a lambda function to filter out the even numbers before summing them.__"
   ]
  },
  {
   "cell_type": "code",
   "execution_count": 23,
   "id": "a07b83b0-23ee-4f7c-8913-1f42e25b8557",
   "metadata": {},
   "outputs": [
    {
     "name": "stdin",
     "output_type": "stream",
     "text": [
      "Enter some numbers with space between numbers :  2 5 8 \n"
     ]
    },
    {
     "name": "stdout",
     "output_type": "stream",
     "text": [
      "The sum of even numbers in the list is: 10\n"
     ]
    }
   ],
   "source": [
    "# Enter numbers by user\n",
    "\n",
    "def sum_of_even_numbers(numbers):\n",
    "    return sum (filter(lambda x: x % 2 == 0, numbers))  # Filter out even numbers using a lambda function and sum them\n",
    "\n",
    "input_numbers = input(\"Enter some numbers with space between numbers : \")\n",
    "numbers = list(map(int, input_numbers.split()))  \n",
    "\n",
    "sum_even = sum_of_even_numbers(numbers)\n",
    "\n",
    "print(f\"The sum of even numbers in the list is: {sum_even}\")\n"
   ]
  },
  {
   "cell_type": "code",
   "execution_count": 24,
   "id": "9c4233df-3f9f-405d-8bba-9c1aee14d5cc",
   "metadata": {},
   "outputs": [
    {
     "name": "stdout",
     "output_type": "stream",
     "text": [
      "10\n"
     ]
    }
   ],
   "source": [
    "# With given numbers\n",
    "\n",
    "def sum_of_even_numbers (numbers):\n",
    "    even_numbers        = lambda x : x % 2 == 0\n",
    "    filter_even_numbers = filter(even_numbers)\n",
    "    sum_even            = sum (filter_even_numbers)\n",
    "    return (sum_even)\n",
    "\n",
    "numbers = [1, 2, 3, 4, 5, 6]\n",
    "\n",
    "print (sum_even)"
   ]
  },
  {
   "cell_type": "code",
   "execution_count": 6,
   "id": "6f8f3c6e-c2ad-497b-a945-bd7d283594ca",
   "metadata": {},
   "outputs": [
    {
     "name": "stdout",
     "output_type": "stream",
     "text": [
      "15\n"
     ]
    }
   ],
   "source": [
    "# lambda function example\n",
    "# Syntax is lambda arguments : expression\n",
    "\n",
    "# lambda function that adds 10 to a given number (Add 10 to argument a, and return the result)\n",
    "\n",
    "add_ten = lambda x: x + 10\n",
    "print(add_ten(5))\n"
   ]
  },
  {
   "cell_type": "code",
   "execution_count": 26,
   "id": "0b46e5ed-3594-4b04-affc-e387f457c8f5",
   "metadata": {},
   "outputs": [
    {
     "name": "stdout",
     "output_type": "stream",
     "text": [
      "[2, 4, 6]\n"
     ]
    }
   ],
   "source": [
    "# lambda function example\n",
    "\n",
    "numbers = [1, 2, 3, 4, 5, 6]\n",
    "even_numbers = list(filter(lambda x : x % 2 == 0, numbers))\n",
    "print (even_numbers)"
   ]
  },
  {
   "cell_type": "markdown",
   "id": "3510e93b-1445-48c5-bac6-97b27f9bb245",
   "metadata": {},
   "source": [
    "5. __Import the Titanic dataset (using pandas) into a Pandas DataFrame. <br>\n",
    "   Perform basic operations such as displaying the first few rows, <br>\n",
    "   checking for null values, and summarizing the DataFrame’s statistics__"
   ]
  },
  {
   "cell_type": "code",
   "execution_count": 31,
   "id": "ce97cea0-8861-468f-b20c-fecb67b0c8cc",
   "metadata": {},
   "outputs": [
    {
     "name": "stdout",
     "output_type": "stream",
     "text": [
      "C:\\Users\\sneja\\anaconda3\\Lib\\site-packages\\bokeh_sampledata\\_data\n"
     ]
    }
   ],
   "source": [
    "import pandas as pd\n",
    "import os\n",
    "\n",
    "os.chdir(r\"C:\\Users\\sneja\\anaconda3\\Lib\\site-packages\\bokeh_sampledata\\_data\")\n",
    "print(os.getcwd())"
   ]
  },
  {
   "cell_type": "code",
   "execution_count": 28,
   "id": "30908838-9408-4bcc-968e-b80a02ce14a8",
   "metadata": {},
   "outputs": [],
   "source": [
    "#Import the Titanic dataset (using pandas) into a Pandas DataFrame\n",
    "\n",
    "df = pd.read_csv(r\"titanic_all.csv\")"
   ]
  },
  {
   "cell_type": "code",
   "execution_count": 10,
   "id": "bbfeadc5-08db-4634-b739-cc6f1e7b2085",
   "metadata": {},
   "outputs": [
    {
     "data": {
      "text/html": [
       "<div>\n",
       "<style scoped>\n",
       "    .dataframe tbody tr th:only-of-type {\n",
       "        vertical-align: middle;\n",
       "    }\n",
       "\n",
       "    .dataframe tbody tr th {\n",
       "        vertical-align: top;\n",
       "    }\n",
       "\n",
       "    .dataframe thead th {\n",
       "        text-align: right;\n",
       "    }\n",
       "</style>\n",
       "<table border=\"1\" class=\"dataframe\">\n",
       "  <thead>\n",
       "    <tr style=\"text-align: right;\">\n",
       "      <th></th>\n",
       "      <th>name</th>\n",
       "      <th>class</th>\n",
       "      <th>age</th>\n",
       "      <th>sex</th>\n",
       "      <th>survived</th>\n",
       "    </tr>\n",
       "  </thead>\n",
       "  <tbody>\n",
       "    <tr>\n",
       "      <th>0</th>\n",
       "      <td>Allen, Miss Elisabeth Walton</td>\n",
       "      <td>1st</td>\n",
       "      <td>29.00</td>\n",
       "      <td>female</td>\n",
       "      <td>1</td>\n",
       "    </tr>\n",
       "    <tr>\n",
       "      <th>1</th>\n",
       "      <td>Allison, Miss Helen Loraine</td>\n",
       "      <td>1st</td>\n",
       "      <td>2.00</td>\n",
       "      <td>female</td>\n",
       "      <td>0</td>\n",
       "    </tr>\n",
       "    <tr>\n",
       "      <th>2</th>\n",
       "      <td>Allison, Mr Hudson Joshua Creighton</td>\n",
       "      <td>1st</td>\n",
       "      <td>30.00</td>\n",
       "      <td>male</td>\n",
       "      <td>0</td>\n",
       "    </tr>\n",
       "    <tr>\n",
       "      <th>3</th>\n",
       "      <td>Allison, Mrs Hudson JC (Bessie Waldo Daniels)</td>\n",
       "      <td>1st</td>\n",
       "      <td>25.00</td>\n",
       "      <td>female</td>\n",
       "      <td>0</td>\n",
       "    </tr>\n",
       "    <tr>\n",
       "      <th>4</th>\n",
       "      <td>Allison, Master Hudson Trevor</td>\n",
       "      <td>1st</td>\n",
       "      <td>0.92</td>\n",
       "      <td>male</td>\n",
       "      <td>1</td>\n",
       "    </tr>\n",
       "  </tbody>\n",
       "</table>\n",
       "</div>"
      ],
      "text/plain": [
       "                                            name class    age     sex  \\\n",
       "0                   Allen, Miss Elisabeth Walton   1st  29.00  female   \n",
       "1                    Allison, Miss Helen Loraine   1st   2.00  female   \n",
       "2            Allison, Mr Hudson Joshua Creighton   1st  30.00    male   \n",
       "3  Allison, Mrs Hudson JC (Bessie Waldo Daniels)   1st  25.00  female   \n",
       "4                  Allison, Master Hudson Trevor   1st   0.92    male   \n",
       "\n",
       "   survived  \n",
       "0         1  \n",
       "1         0  \n",
       "2         0  \n",
       "3         0  \n",
       "4         1  "
      ]
     },
     "execution_count": 10,
     "metadata": {},
     "output_type": "execute_result"
    }
   ],
   "source": [
    "# displaying the first few rows\n",
    "\n",
    "df.head()"
   ]
  },
  {
   "cell_type": "code",
   "execution_count": 11,
   "id": "41694031-677f-448d-aff3-7bc66f2c1721",
   "metadata": {},
   "outputs": [
    {
     "data": {
      "text/plain": [
       "name          0\n",
       "class         0\n",
       "age         557\n",
       "sex           0\n",
       "survived      0\n",
       "dtype: int64"
      ]
     },
     "execution_count": 11,
     "metadata": {},
     "output_type": "execute_result"
    }
   ],
   "source": [
    "# checking for null values\n",
    "\n",
    "df.isnull().sum()"
   ]
  },
  {
   "cell_type": "code",
   "execution_count": 12,
   "id": "afc8b182-80e7-462a-813b-f003d93622d1",
   "metadata": {},
   "outputs": [
    {
     "data": {
      "text/html": [
       "<div>\n",
       "<style scoped>\n",
       "    .dataframe tbody tr th:only-of-type {\n",
       "        vertical-align: middle;\n",
       "    }\n",
       "\n",
       "    .dataframe tbody tr th {\n",
       "        vertical-align: top;\n",
       "    }\n",
       "\n",
       "    .dataframe thead th {\n",
       "        text-align: right;\n",
       "    }\n",
       "</style>\n",
       "<table border=\"1\" class=\"dataframe\">\n",
       "  <thead>\n",
       "    <tr style=\"text-align: right;\">\n",
       "      <th></th>\n",
       "      <th>age</th>\n",
       "      <th>survived</th>\n",
       "    </tr>\n",
       "  </thead>\n",
       "  <tbody>\n",
       "    <tr>\n",
       "      <th>count</th>\n",
       "      <td>756.000000</td>\n",
       "      <td>1313.000000</td>\n",
       "    </tr>\n",
       "    <tr>\n",
       "      <th>mean</th>\n",
       "      <td>30.397989</td>\n",
       "      <td>0.342727</td>\n",
       "    </tr>\n",
       "    <tr>\n",
       "      <th>std</th>\n",
       "      <td>14.259049</td>\n",
       "      <td>0.474802</td>\n",
       "    </tr>\n",
       "    <tr>\n",
       "      <th>min</th>\n",
       "      <td>0.170000</td>\n",
       "      <td>0.000000</td>\n",
       "    </tr>\n",
       "    <tr>\n",
       "      <th>25%</th>\n",
       "      <td>21.000000</td>\n",
       "      <td>0.000000</td>\n",
       "    </tr>\n",
       "    <tr>\n",
       "      <th>50%</th>\n",
       "      <td>28.000000</td>\n",
       "      <td>0.000000</td>\n",
       "    </tr>\n",
       "    <tr>\n",
       "      <th>75%</th>\n",
       "      <td>39.000000</td>\n",
       "      <td>1.000000</td>\n",
       "    </tr>\n",
       "    <tr>\n",
       "      <th>max</th>\n",
       "      <td>71.000000</td>\n",
       "      <td>1.000000</td>\n",
       "    </tr>\n",
       "  </tbody>\n",
       "</table>\n",
       "</div>"
      ],
      "text/plain": [
       "              age     survived\n",
       "count  756.000000  1313.000000\n",
       "mean    30.397989     0.342727\n",
       "std     14.259049     0.474802\n",
       "min      0.170000     0.000000\n",
       "25%     21.000000     0.000000\n",
       "50%     28.000000     0.000000\n",
       "75%     39.000000     1.000000\n",
       "max     71.000000     1.000000"
      ]
     },
     "execution_count": 12,
     "metadata": {},
     "output_type": "execute_result"
    }
   ],
   "source": [
    "# summarizing the DataFrame’s statistics\n",
    "\n",
    "df.describe()"
   ]
  },
  {
   "cell_type": "code",
   "execution_count": 13,
   "id": "a010e704-03dc-4cfd-b479-e1b96a191f68",
   "metadata": {},
   "outputs": [
    {
     "name": "stdout",
     "output_type": "stream",
     "text": [
      "First few rows of the dataset:\n",
      "                                            name class    age     sex  \\\n",
      "0                   Allen, Miss Elisabeth Walton   1st  29.00  female   \n",
      "1                    Allison, Miss Helen Loraine   1st   2.00  female   \n",
      "2            Allison, Mr Hudson Joshua Creighton   1st  30.00    male   \n",
      "3  Allison, Mrs Hudson JC (Bessie Waldo Daniels)   1st  25.00  female   \n",
      "4                  Allison, Master Hudson Trevor   1st   0.92    male   \n",
      "\n",
      "   survived  \n",
      "0         1  \n",
      "1         0  \n",
      "2         0  \n",
      "3         0  \n",
      "4         1  \n",
      "\n",
      "Null values in each column:\n",
      "name          0\n",
      "class         0\n",
      "age         557\n",
      "sex           0\n",
      "survived      0\n",
      "dtype: int64\n",
      "\n",
      "Summary statistics of the dataset:\n",
      "              age     survived\n",
      "count  756.000000  1313.000000\n",
      "mean    30.397989     0.342727\n",
      "std     14.259049     0.474802\n",
      "min      0.170000     0.000000\n",
      "25%     21.000000     0.000000\n",
      "50%     28.000000     0.000000\n",
      "75%     39.000000     1.000000\n",
      "max     71.000000     1.000000\n"
     ]
    }
   ],
   "source": [
    "# OVERALL CODES\n",
    "\n",
    "print(\"First few rows of the dataset:\")\n",
    "print(df.head())\n",
    "print(\"\\nNull values in each column:\")\n",
    "print(df.isnull().sum())\n",
    "print(\"\\nSummary statistics of the dataset:\")\n",
    "print(df.describe())"
   ]
  },
  {
   "cell_type": "markdown",
   "id": "f41a7959-0ac9-4a92-921e-547b5da5fb36",
   "metadata": {},
   "source": [
    "6. __Create a NumPy array with random numbers and perform the following operations: <br>\n",
    "   calculate the mean, standard deviation, and reshape the array into a different dimension. <br>\n",
    "   (No specific dataset required, use numpy)__"
   ]
  },
  {
   "cell_type": "code",
   "execution_count": 14,
   "id": "29a68c30-2bc0-40bb-927b-cb9abf644d20",
   "metadata": {},
   "outputs": [
    {
     "name": "stdout",
     "output_type": "stream",
     "text": [
      "Original array:\n",
      "[[15 67 98 78]\n",
      " [77 76 63 51]\n",
      " [67 22 56 72]]\n",
      "\n",
      "Mean of the array:\n",
      "61.833333333333336\n",
      "\n",
      "Standard deviation of the array:\n",
      "22.527144120421084\n",
      "\n",
      "Reshaped array (2x6):\n",
      "[[15 67 98 78 77 76]\n",
      " [63 51 67 22 56 72]]\n"
     ]
    }
   ],
   "source": [
    "import numpy as np\n",
    "\n",
    "# Create a 3x4 array with random numbers\n",
    "array = np.random.randint(0,100, size = (3, 4))\n",
    "print(\"Original array:\")\n",
    "print(array)\n",
    "\n",
    "# Calculate the mean\n",
    "mean_value = np.mean(array)\n",
    "print(\"\\nMean of the array:\")\n",
    "print(mean_value)\n",
    "\n",
    "# Calculate the standard deviation\n",
    "std_deviation = np.std(array)\n",
    "print(\"\\nStandard deviation of the array:\")\n",
    "print(std_deviation)\n",
    "\n",
    "# Reshape the array into a different dimension (2x6)\n",
    "reshaped_array = array.reshape(2, 6)\n",
    "print(\"\\nReshaped array (2x6):\")\n",
    "print(reshaped_array)\n"
   ]
  },
  {
   "cell_type": "code",
   "execution_count": null,
   "id": "a86ae5a7-6984-41b0-8dd2-56b7aaf732a1",
   "metadata": {},
   "outputs": [],
   "source": []
  }
 ],
 "metadata": {
  "kernelspec": {
   "display_name": "Python 3 (ipykernel)",
   "language": "python",
   "name": "python3"
  },
  "language_info": {
   "codemirror_mode": {
    "name": "ipython",
    "version": 3
   },
   "file_extension": ".py",
   "mimetype": "text/x-python",
   "name": "python",
   "nbconvert_exporter": "python",
   "pygments_lexer": "ipython3",
   "version": "3.11.7"
  }
 },
 "nbformat": 4,
 "nbformat_minor": 5
}
